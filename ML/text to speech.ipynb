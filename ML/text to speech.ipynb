{
 "cells": [
  {
   "cell_type": "markdown",
   "id": "3987bb09-65eb-4416-9a6f-0269eaa1111d",
   "metadata": {},
   "source": [
    "Metni seslendirme"
   ]
  },
  {
   "cell_type": "code",
   "execution_count": 2,
   "id": "cf5979e8-5b08-4c3e-908e-7f72447ed3aa",
   "metadata": {},
   "outputs": [
    {
     "name": "stdout",
     "output_type": "stream",
     "text": [
      "Collecting gttsNote: you may need to restart the kernel to use updated packages.\n",
      "\n",
      "  Downloading gTTS-2.5.4-py3-none-any.whl.metadata (4.1 kB)\n",
      "Requirement already satisfied: requests<3,>=2.27 in c:\\programdata\\anaconda3\\lib\\site-packages (from gtts) (2.32.3)\n",
      "Requirement already satisfied: click<8.2,>=7.1 in c:\\programdata\\anaconda3\\lib\\site-packages (from gtts) (8.1.7)\n",
      "Requirement already satisfied: colorama in c:\\programdata\\anaconda3\\lib\\site-packages (from click<8.2,>=7.1->gtts) (0.4.6)\n",
      "Requirement already satisfied: charset-normalizer<4,>=2 in c:\\programdata\\anaconda3\\lib\\site-packages (from requests<3,>=2.27->gtts) (3.3.2)\n",
      "Requirement already satisfied: idna<4,>=2.5 in c:\\programdata\\anaconda3\\lib\\site-packages (from requests<3,>=2.27->gtts) (3.7)\n",
      "Requirement already satisfied: urllib3<3,>=1.21.1 in c:\\programdata\\anaconda3\\lib\\site-packages (from requests<3,>=2.27->gtts) (2.2.3)\n",
      "Requirement already satisfied: certifi>=2017.4.17 in c:\\programdata\\anaconda3\\lib\\site-packages (from requests<3,>=2.27->gtts) (2024.12.14)\n",
      "Downloading gTTS-2.5.4-py3-none-any.whl (29 kB)\n",
      "Installing collected packages: gtts\n",
      "Successfully installed gtts-2.5.4\n"
     ]
    }
   ],
   "source": [
    "pip install gtts"
   ]
  },
  {
   "cell_type": "code",
   "execution_count": 4,
   "id": "b5706305-1b14-4cc6-a9c7-ae856c9e46f0",
   "metadata": {},
   "outputs": [],
   "source": [
    "from gtts import gTTS"
   ]
  },
  {
   "cell_type": "code",
   "execution_count": 6,
   "id": "0edff9f0-7772-4ce9-906c-e6b13f7a6bbd",
   "metadata": {},
   "outputs": [],
   "source": [
    "text=\"Merhaba ben bir yapay zeka asistanıyım!\""
   ]
  },
  {
   "cell_type": "code",
   "execution_count": 8,
   "id": "21c359ce-fb4b-41bf-9ece-eddaeee11efa",
   "metadata": {},
   "outputs": [],
   "source": [
    "seslendirme=gTTS(text=text, lang='tr', slow=False)\n",
    "seslendirme.save(\"seslendirme.mp3\")"
   ]
  },
  {
   "cell_type": "code",
   "execution_count": 10,
   "id": "82d63f79-992f-45b7-9201-843aefcdc9ba",
   "metadata": {},
   "outputs": [],
   "source": [
    "seslendirme=gTTS(text=text, lang='hi', slow=False)\n",
    "seslendirme.save(\"seslendirme_hi.mp3\")"
   ]
  },
  {
   "cell_type": "code",
   "execution_count": null,
   "id": "5c2df1de-3ec2-4a2a-9487-f763ba0f2a01",
   "metadata": {},
   "outputs": [],
   "source": []
  }
 ],
 "metadata": {
  "kernelspec": {
   "display_name": "Python [conda env:base] *",
   "language": "python",
   "name": "conda-base-py"
  },
  "language_info": {
   "codemirror_mode": {
    "name": "ipython",
    "version": 3
   },
   "file_extension": ".py",
   "mimetype": "text/x-python",
   "name": "python",
   "nbconvert_exporter": "python",
   "pygments_lexer": "ipython3",
   "version": "3.12.7"
  }
 },
 "nbformat": 4,
 "nbformat_minor": 5
}
