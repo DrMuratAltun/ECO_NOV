{
 "cells": [
  {
   "cell_type": "markdown",
   "id": "4a94e2b8",
   "metadata": {},
   "source": [
    "## Reklam-Satış Modeli"
   ]
  },
  {
   "cell_type": "markdown",
   "id": "889b4611",
   "metadata": {},
   "source": [
    "## Kütüphaneleri Yükle"
   ]
  },
  {
   "cell_type": "code",
   "execution_count": 3,
   "id": "b92f1ffe",
   "metadata": {},
   "outputs": [],
   "source": [
    "import pandas as pd\n",
    "import numpy as np"
   ]
  },
  {
   "cell_type": "markdown",
   "id": "834cb7e1",
   "metadata": {},
   "source": [
    "## Veri Setini Yükle"
   ]
  },
  {
   "cell_type": "code",
   "execution_count": 2,
   "id": "ae953e9c",
   "metadata": {
    "collapsed": true
   },
   "outputs": [
    {
     "name": "stdout",
     "output_type": "stream",
     "text": [
      " Volume in drive C has no label.\n",
      " Volume Serial Number is 3073-49B7\n",
      "\n",
      " Directory of C:\\Users\\murat\\Documents\\ECO_Nov\\ML\n",
      "\n",
      "18.12.2024  22:48    <DIR>          .\n",
      "16.12.2024  22:16    <DIR>          ..\n",
      "18.12.2024  22:48    <DIR>          .ipynb_checkpoints\n",
      "19.02.2024  21:11             4.063 advertising.csv\n",
      "22.07.2024  16:10             2.341 all_reg_models.py\n",
      "18.12.2024  22:16           969.335 €oklu Do§rusal Regresyon.ipynb\n",
      "18.12.2024  22:46               590 Pop Reg Mod Kullanma.ipynb\n",
      "18.12.2024  22:43           443.640 Pop�ler regresyon Modelleri.ipynb\n",
      "18.12.2024  21:21            18.684 regresyon i‡in metrikler.docx\n",
      "               6 File(s)      1.438.653 bytes\n",
      "               3 Dir(s)   3.999.191.040 bytes free\n"
     ]
    }
   ],
   "source": [
    "ls"
   ]
  },
  {
   "cell_type": "code",
   "execution_count": 5,
   "id": "82e26aec",
   "metadata": {},
   "outputs": [],
   "source": [
    "df=pd.read_csv(\"advertising.csv\")"
   ]
  },
  {
   "cell_type": "markdown",
   "id": "2fa9be36",
   "metadata": {},
   "source": [
    "## Veri Önişleme"
   ]
  },
  {
   "cell_type": "code",
   "execution_count": 6,
   "id": "ff0572ca",
   "metadata": {
    "collapsed": true
   },
   "outputs": [
    {
     "name": "stdout",
     "output_type": "stream",
     "text": [
      "<class 'pandas.core.frame.DataFrame'>\n",
      "RangeIndex: 200 entries, 0 to 199\n",
      "Data columns (total 4 columns):\n",
      " #   Column     Non-Null Count  Dtype  \n",
      "---  ------     --------------  -----  \n",
      " 0   TV         200 non-null    float64\n",
      " 1   Radio      200 non-null    float64\n",
      " 2   Newspaper  200 non-null    float64\n",
      " 3   Sales      200 non-null    float64\n",
      "dtypes: float64(4)\n",
      "memory usage: 6.4 KB\n"
     ]
    }
   ],
   "source": [
    "df.info()"
   ]
  },
  {
   "cell_type": "code",
   "execution_count": 7,
   "id": "0b2a295e",
   "metadata": {},
   "outputs": [],
   "source": [
    "from all_reg_models import all_reg_models"
   ]
  },
  {
   "cell_type": "code",
   "execution_count": null,
   "id": "3daa9d52",
   "metadata": {},
   "outputs": [],
   "source": []
  }
 ],
 "metadata": {
  "kernelspec": {
   "display_name": "Python 3 (ipykernel)",
   "language": "python",
   "name": "python3"
  },
  "language_info": {
   "codemirror_mode": {
    "name": "ipython",
    "version": 3
   },
   "file_extension": ".py",
   "mimetype": "text/x-python",
   "name": "python",
   "nbconvert_exporter": "python",
   "pygments_lexer": "ipython3",
   "version": "3.10.14"
  }
 },
 "nbformat": 4,
 "nbformat_minor": 5
}
